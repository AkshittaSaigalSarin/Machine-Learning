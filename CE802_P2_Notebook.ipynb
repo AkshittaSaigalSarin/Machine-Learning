{
 "cells": [
  {
   "cell_type": "markdown",
   "id": "545ab617",
   "metadata": {},
   "source": [
    "### Part A"
   ]
  },
  {
   "cell_type": "code",
   "execution_count": 1,
   "id": "6f55d194",
   "metadata": {},
   "outputs": [],
   "source": [
    "# HERE YOU WILL WRITE CODE TO TEST A NUMBER OF PREDICTORS\n",
    "# AND FINALLY CHOOSE AND TRAIN THE PREDICTOR THAT YOU WILL BE USING FOR PART B"
   ]
  },
  {
   "cell_type": "markdown",
   "id": "3930bf6c",
   "metadata": {},
   "source": [
    "# 1. Import Libraries"
   ]
  },
  {
   "cell_type": "code",
   "execution_count": 2,
   "id": "5cc60913",
   "metadata": {},
   "outputs": [],
   "source": [
    "import pandas as pd\n",
    "import numpy as np\n",
    "import matplotlib.pyplot as plt\n",
    "import seaborn as sns\n",
    "%matplotlib inline\n",
    "\n",
    "from sklearn.metrics import accuracy_score, roc_auc_score, confusion_matrix, classification_report, plot_roc_curve\n",
    "from sklearn.model_selection import cross_val_score\n",
    "from sklearn.preprocessing import StandardScaler,MinMaxScaler,RobustScaler\n",
    "from sklearn.model_selection import train_test_split\n",
    "from sklearn.model_selection import cross_val_score\n",
    "\n",
    "from sklearn.model_selection import RandomizedSearchCV\n",
    "from sklearn.ensemble import RandomForestClassifier,GradientBoostingClassifier\n",
    "from sklearn.linear_model import LogisticRegression\n",
    "from sklearn.tree import DecisionTreeClassifier\n",
    "from sklearn.metrics import mean_squared_error,confusion_matrix, precision_score, recall_score, auc,roc_curve,f1_score,roc_auc_score"
   ]
  },
  {
   "cell_type": "markdown",
   "id": "85f0d42f",
   "metadata": {},
   "source": [
    "## 2. Importing the data"
   ]
  },
  {
   "cell_type": "code",
   "execution_count": 3,
   "id": "e1126981",
   "metadata": {},
   "outputs": [
    {
     "data": {
      "text/html": [
       "<div>\n",
       "<style scoped>\n",
       "    .dataframe tbody tr th:only-of-type {\n",
       "        vertical-align: middle;\n",
       "    }\n",
       "\n",
       "    .dataframe tbody tr th {\n",
       "        vertical-align: top;\n",
       "    }\n",
       "\n",
       "    .dataframe thead th {\n",
       "        text-align: right;\n",
       "    }\n",
       "</style>\n",
       "<table border=\"1\" class=\"dataframe\">\n",
       "  <thead>\n",
       "    <tr style=\"text-align: right;\">\n",
       "      <th></th>\n",
       "      <th>F1</th>\n",
       "      <th>F2</th>\n",
       "      <th>F3</th>\n",
       "      <th>F4</th>\n",
       "      <th>F5</th>\n",
       "      <th>F6</th>\n",
       "      <th>F7</th>\n",
       "      <th>F8</th>\n",
       "      <th>F9</th>\n",
       "      <th>F10</th>\n",
       "      <th>...</th>\n",
       "      <th>F13</th>\n",
       "      <th>F14</th>\n",
       "      <th>F15</th>\n",
       "      <th>F16</th>\n",
       "      <th>F17</th>\n",
       "      <th>F18</th>\n",
       "      <th>F19</th>\n",
       "      <th>F20</th>\n",
       "      <th>F21</th>\n",
       "      <th>Class</th>\n",
       "    </tr>\n",
       "  </thead>\n",
       "  <tbody>\n",
       "    <tr>\n",
       "      <th>0</th>\n",
       "      <td>-0.123210</td>\n",
       "      <td>2577.32</td>\n",
       "      <td>2183.52</td>\n",
       "      <td>7747.32</td>\n",
       "      <td>2.16</td>\n",
       "      <td>9693.21</td>\n",
       "      <td>-2.2498</td>\n",
       "      <td>-1381.98</td>\n",
       "      <td>3033.55</td>\n",
       "      <td>53.796</td>\n",
       "      <td>...</td>\n",
       "      <td>6.7860</td>\n",
       "      <td>1</td>\n",
       "      <td>-3.9290</td>\n",
       "      <td>-0.8095</td>\n",
       "      <td>3.5800</td>\n",
       "      <td>-5.9384</td>\n",
       "      <td>-9.3420</td>\n",
       "      <td>1</td>\n",
       "      <td>NaN</td>\n",
       "      <td>True</td>\n",
       "    </tr>\n",
       "    <tr>\n",
       "      <th>1</th>\n",
       "      <td>-2.064600</td>\n",
       "      <td>1200.12</td>\n",
       "      <td>1654.74</td>\n",
       "      <td>6027.72</td>\n",
       "      <td>2.16</td>\n",
       "      <td>9391.26</td>\n",
       "      <td>-2.7420</td>\n",
       "      <td>-1336.20</td>\n",
       "      <td>2081.35</td>\n",
       "      <td>33.514</td>\n",
       "      <td>...</td>\n",
       "      <td>5.5240</td>\n",
       "      <td>0</td>\n",
       "      <td>-1.6609</td>\n",
       "      <td>-2.3020</td>\n",
       "      <td>3.8880</td>\n",
       "      <td>-6.5640</td>\n",
       "      <td>-6.3806</td>\n",
       "      <td>1</td>\n",
       "      <td>NaN</td>\n",
       "      <td>False</td>\n",
       "    </tr>\n",
       "    <tr>\n",
       "      <th>2</th>\n",
       "      <td>-0.083748</td>\n",
       "      <td>2769.35</td>\n",
       "      <td>2661.42</td>\n",
       "      <td>7798.66</td>\n",
       "      <td>2.16</td>\n",
       "      <td>9296.28</td>\n",
       "      <td>-3.2130</td>\n",
       "      <td>-1531.16</td>\n",
       "      <td>3397.15</td>\n",
       "      <td>39.430</td>\n",
       "      <td>...</td>\n",
       "      <td>10.0870</td>\n",
       "      <td>0</td>\n",
       "      <td>-2.5100</td>\n",
       "      <td>-2.8190</td>\n",
       "      <td>2.1606</td>\n",
       "      <td>-5.2340</td>\n",
       "      <td>-9.6780</td>\n",
       "      <td>0</td>\n",
       "      <td>NaN</td>\n",
       "      <td>False</td>\n",
       "    </tr>\n",
       "    <tr>\n",
       "      <th>3</th>\n",
       "      <td>-2.808300</td>\n",
       "      <td>3161.52</td>\n",
       "      <td>2199.12</td>\n",
       "      <td>8369.32</td>\n",
       "      <td>5.16</td>\n",
       "      <td>7990.71</td>\n",
       "      <td>-2.2703</td>\n",
       "      <td>-1397.03</td>\n",
       "      <td>3289.99</td>\n",
       "      <td>42.012</td>\n",
       "      <td>...</td>\n",
       "      <td>15.5400</td>\n",
       "      <td>1</td>\n",
       "      <td>-2.2555</td>\n",
       "      <td>-0.9770</td>\n",
       "      <td>8.2160</td>\n",
       "      <td>-5.8166</td>\n",
       "      <td>-6.1512</td>\n",
       "      <td>0</td>\n",
       "      <td>42.06</td>\n",
       "      <td>True</td>\n",
       "    </tr>\n",
       "    <tr>\n",
       "      <th>4</th>\n",
       "      <td>-0.445800</td>\n",
       "      <td>2707.42</td>\n",
       "      <td>2083.62</td>\n",
       "      <td>9054.72</td>\n",
       "      <td>5.16</td>\n",
       "      <td>8691.81</td>\n",
       "      <td>-3.7310</td>\n",
       "      <td>-804.04</td>\n",
       "      <td>1903.35</td>\n",
       "      <td>43.172</td>\n",
       "      <td>...</td>\n",
       "      <td>4.5188</td>\n",
       "      <td>0</td>\n",
       "      <td>-1.7843</td>\n",
       "      <td>-1.3690</td>\n",
       "      <td>0.7562</td>\n",
       "      <td>-6.4060</td>\n",
       "      <td>-9.5320</td>\n",
       "      <td>0</td>\n",
       "      <td>NaN</td>\n",
       "      <td>True</td>\n",
       "    </tr>\n",
       "  </tbody>\n",
       "</table>\n",
       "<p>5 rows × 22 columns</p>\n",
       "</div>"
      ],
      "text/plain": [
       "         F1       F2       F3       F4    F5       F6      F7       F8  \\\n",
       "0 -0.123210  2577.32  2183.52  7747.32  2.16  9693.21 -2.2498 -1381.98   \n",
       "1 -2.064600  1200.12  1654.74  6027.72  2.16  9391.26 -2.7420 -1336.20   \n",
       "2 -0.083748  2769.35  2661.42  7798.66  2.16  9296.28 -3.2130 -1531.16   \n",
       "3 -2.808300  3161.52  2199.12  8369.32  5.16  7990.71 -2.2703 -1397.03   \n",
       "4 -0.445800  2707.42  2083.62  9054.72  5.16  8691.81 -3.7310  -804.04   \n",
       "\n",
       "        F9     F10  ...      F13  F14     F15     F16     F17     F18     F19  \\\n",
       "0  3033.55  53.796  ...   6.7860    1 -3.9290 -0.8095  3.5800 -5.9384 -9.3420   \n",
       "1  2081.35  33.514  ...   5.5240    0 -1.6609 -2.3020  3.8880 -6.5640 -6.3806   \n",
       "2  3397.15  39.430  ...  10.0870    0 -2.5100 -2.8190  2.1606 -5.2340 -9.6780   \n",
       "3  3289.99  42.012  ...  15.5400    1 -2.2555 -0.9770  8.2160 -5.8166 -6.1512   \n",
       "4  1903.35  43.172  ...   4.5188    0 -1.7843 -1.3690  0.7562 -6.4060 -9.5320   \n",
       "\n",
       "   F20    F21  Class  \n",
       "0    1    NaN   True  \n",
       "1    1    NaN  False  \n",
       "2    0    NaN  False  \n",
       "3    0  42.06   True  \n",
       "4    0    NaN   True  \n",
       "\n",
       "[5 rows x 22 columns]"
      ]
     },
     "execution_count": 3,
     "metadata": {},
     "output_type": "execute_result"
    }
   ],
   "source": [
    "dataset = pd.read_csv('CE802_P2_Data.csv')\n",
    "dataset.head()"
   ]
  },
  {
   "cell_type": "markdown",
   "id": "d55b9dd4",
   "metadata": {},
   "source": [
    "## 3. Data analysis"
   ]
  },
  {
   "cell_type": "code",
   "execution_count": 4,
   "id": "176fbe1b",
   "metadata": {},
   "outputs": [
    {
     "data": {
      "text/plain": [
       "(1000, 22)"
      ]
     },
     "execution_count": 4,
     "metadata": {},
     "output_type": "execute_result"
    }
   ],
   "source": [
    "# to check the number of rows & columns\n",
    "dataset.shape"
   ]
  },
  {
   "cell_type": "code",
   "execution_count": 5,
   "id": "733bf528",
   "metadata": {},
   "outputs": [
    {
     "data": {
      "text/plain": [
       "True     506\n",
       "False    494\n",
       "Name: Class, dtype: int64"
      ]
     },
     "execution_count": 5,
     "metadata": {},
     "output_type": "execute_result"
    }
   ],
   "source": [
    "# To check class column is balanced or not\n",
    "dataset[\"Class\"].value_counts()"
   ]
  },
  {
   "cell_type": "code",
   "execution_count": 6,
   "id": "6b248b08",
   "metadata": {},
   "outputs": [
    {
     "data": {
      "text/html": [
       "<div>\n",
       "<style scoped>\n",
       "    .dataframe tbody tr th:only-of-type {\n",
       "        vertical-align: middle;\n",
       "    }\n",
       "\n",
       "    .dataframe tbody tr th {\n",
       "        vertical-align: top;\n",
       "    }\n",
       "\n",
       "    .dataframe thead th {\n",
       "        text-align: right;\n",
       "    }\n",
       "</style>\n",
       "<table border=\"1\" class=\"dataframe\">\n",
       "  <thead>\n",
       "    <tr style=\"text-align: right;\">\n",
       "      <th></th>\n",
       "      <th>F1</th>\n",
       "      <th>F2</th>\n",
       "      <th>F3</th>\n",
       "      <th>F4</th>\n",
       "      <th>F5</th>\n",
       "      <th>F6</th>\n",
       "      <th>F7</th>\n",
       "      <th>F8</th>\n",
       "      <th>F9</th>\n",
       "      <th>F10</th>\n",
       "      <th>...</th>\n",
       "      <th>F12</th>\n",
       "      <th>F13</th>\n",
       "      <th>F14</th>\n",
       "      <th>F15</th>\n",
       "      <th>F16</th>\n",
       "      <th>F17</th>\n",
       "      <th>F18</th>\n",
       "      <th>F19</th>\n",
       "      <th>F20</th>\n",
       "      <th>F21</th>\n",
       "    </tr>\n",
       "  </thead>\n",
       "  <tbody>\n",
       "    <tr>\n",
       "      <th>count</th>\n",
       "      <td>1000.000000</td>\n",
       "      <td>1000.000000</td>\n",
       "      <td>1000.000000</td>\n",
       "      <td>1000.000000</td>\n",
       "      <td>1000.000000</td>\n",
       "      <td>1000.000000</td>\n",
       "      <td>1000.000000</td>\n",
       "      <td>1000.000000</td>\n",
       "      <td>1000.000000</td>\n",
       "      <td>1000.000000</td>\n",
       "      <td>...</td>\n",
       "      <td>1000.000000</td>\n",
       "      <td>1000.000000</td>\n",
       "      <td>1000.000000</td>\n",
       "      <td>1000.000000</td>\n",
       "      <td>1000.000000</td>\n",
       "      <td>1000.000000</td>\n",
       "      <td>1000.000000</td>\n",
       "      <td>1000.000000</td>\n",
       "      <td>1000.000000</td>\n",
       "      <td>500.000000</td>\n",
       "    </tr>\n",
       "    <tr>\n",
       "      <th>mean</th>\n",
       "      <td>-1.512791</td>\n",
       "      <td>2520.923949</td>\n",
       "      <td>2120.448916</td>\n",
       "      <td>8459.648266</td>\n",
       "      <td>3.747000</td>\n",
       "      <td>8571.085469</td>\n",
       "      <td>-2.344597</td>\n",
       "      <td>-1249.307215</td>\n",
       "      <td>3205.505415</td>\n",
       "      <td>36.836583</td>\n",
       "      <td>...</td>\n",
       "      <td>2.375746</td>\n",
       "      <td>14.382299</td>\n",
       "      <td>0.481000</td>\n",
       "      <td>-2.315266</td>\n",
       "      <td>-1.338608</td>\n",
       "      <td>2.321917</td>\n",
       "      <td>-6.220027</td>\n",
       "      <td>-7.528717</td>\n",
       "      <td>0.507000</td>\n",
       "      <td>35.050560</td>\n",
       "    </tr>\n",
       "    <tr>\n",
       "      <th>std</th>\n",
       "      <td>2.015813</td>\n",
       "      <td>747.470842</td>\n",
       "      <td>1587.054314</td>\n",
       "      <td>2074.355688</td>\n",
       "      <td>1.498224</td>\n",
       "      <td>2108.672583</td>\n",
       "      <td>0.614178</td>\n",
       "      <td>493.077434</td>\n",
       "      <td>511.582397</td>\n",
       "      <td>9.723283</td>\n",
       "      <td>...</td>\n",
       "      <td>1.805525</td>\n",
       "      <td>10.285697</td>\n",
       "      <td>0.499889</td>\n",
       "      <td>0.899919</td>\n",
       "      <td>0.901204</td>\n",
       "      <td>1.805553</td>\n",
       "      <td>1.706913</td>\n",
       "      <td>1.739357</td>\n",
       "      <td>0.500201</td>\n",
       "      <td>3.188244</td>\n",
       "    </tr>\n",
       "    <tr>\n",
       "      <th>min</th>\n",
       "      <td>-17.514000</td>\n",
       "      <td>-2459.880000</td>\n",
       "      <td>-7321.080000</td>\n",
       "      <td>-655.080000</td>\n",
       "      <td>2.160000</td>\n",
       "      <td>-5873.790000</td>\n",
       "      <td>-5.111000</td>\n",
       "      <td>-4531.040000</td>\n",
       "      <td>-718.650000</td>\n",
       "      <td>5.420000</td>\n",
       "      <td>...</td>\n",
       "      <td>0.464400</td>\n",
       "      <td>4.232328</td>\n",
       "      <td>0.000000</td>\n",
       "      <td>-5.742000</td>\n",
       "      <td>-4.955000</td>\n",
       "      <td>0.344240</td>\n",
       "      <td>-13.326000</td>\n",
       "      <td>-14.710000</td>\n",
       "      <td>0.000000</td>\n",
       "      <td>24.930000</td>\n",
       "    </tr>\n",
       "    <tr>\n",
       "      <th>25%</th>\n",
       "      <td>-1.978575</td>\n",
       "      <td>2440.070000</td>\n",
       "      <td>1505.370000</td>\n",
       "      <td>7659.360000</td>\n",
       "      <td>2.160000</td>\n",
       "      <td>8291.085000</td>\n",
       "      <td>-2.724500</td>\n",
       "      <td>-1423.122500</td>\n",
       "      <td>3071.450000</td>\n",
       "      <td>30.700500</td>\n",
       "      <td>...</td>\n",
       "      <td>1.032950</td>\n",
       "      <td>7.422000</td>\n",
       "      <td>0.000000</td>\n",
       "      <td>-2.798250</td>\n",
       "      <td>-1.707000</td>\n",
       "      <td>0.934900</td>\n",
       "      <td>-6.950000</td>\n",
       "      <td>-8.299000</td>\n",
       "      <td>0.000000</td>\n",
       "      <td>32.850000</td>\n",
       "    </tr>\n",
       "    <tr>\n",
       "      <th>50%</th>\n",
       "      <td>-0.760800</td>\n",
       "      <td>2709.570000</td>\n",
       "      <td>1762.455000</td>\n",
       "      <td>8046.520000</td>\n",
       "      <td>5.160000</td>\n",
       "      <td>8986.140000</td>\n",
       "      <td>-2.210750</td>\n",
       "      <td>-1356.980000</td>\n",
       "      <td>3216.461500</td>\n",
       "      <td>36.759900</td>\n",
       "      <td>...</td>\n",
       "      <td>1.807400</td>\n",
       "      <td>11.312000</td>\n",
       "      <td>0.000000</td>\n",
       "      <td>-2.024800</td>\n",
       "      <td>-1.057250</td>\n",
       "      <td>1.764500</td>\n",
       "      <td>-5.677500</td>\n",
       "      <td>-7.018100</td>\n",
       "      <td>1.000000</td>\n",
       "      <td>34.905000</td>\n",
       "    </tr>\n",
       "    <tr>\n",
       "      <th>75%</th>\n",
       "      <td>-0.191055</td>\n",
       "      <td>2836.273250</td>\n",
       "      <td>2227.920000</td>\n",
       "      <td>8686.670000</td>\n",
       "      <td>5.160000</td>\n",
       "      <td>9414.442500</td>\n",
       "      <td>-1.857700</td>\n",
       "      <td>-1222.365000</td>\n",
       "      <td>3341.050000</td>\n",
       "      <td>42.986500</td>\n",
       "      <td>...</td>\n",
       "      <td>3.168500</td>\n",
       "      <td>17.182500</td>\n",
       "      <td>1.000000</td>\n",
       "      <td>-1.613575</td>\n",
       "      <td>-0.661825</td>\n",
       "      <td>3.147000</td>\n",
       "      <td>-4.958000</td>\n",
       "      <td>-6.226650</td>\n",
       "      <td>1.000000</td>\n",
       "      <td>37.275000</td>\n",
       "    </tr>\n",
       "    <tr>\n",
       "      <th>max</th>\n",
       "      <td>-0.060003</td>\n",
       "      <td>6563.120000</td>\n",
       "      <td>18814.920000</td>\n",
       "      <td>24004.920000</td>\n",
       "      <td>5.160000</td>\n",
       "      <td>19761.210000</td>\n",
       "      <td>-1.570592</td>\n",
       "      <td>1930.960000</td>\n",
       "      <td>6685.350000</td>\n",
       "      <td>75.180000</td>\n",
       "      <td>...</td>\n",
       "      <td>9.444000</td>\n",
       "      <td>86.010000</td>\n",
       "      <td>1.000000</td>\n",
       "      <td>-1.341380</td>\n",
       "      <td>-0.402990</td>\n",
       "      <td>9.316000</td>\n",
       "      <td>-4.422580</td>\n",
       "      <td>-5.684440</td>\n",
       "      <td>1.000000</td>\n",
       "      <td>45.360000</td>\n",
       "    </tr>\n",
       "  </tbody>\n",
       "</table>\n",
       "<p>8 rows × 21 columns</p>\n",
       "</div>"
      ],
      "text/plain": [
       "                F1           F2            F3            F4           F5  \\\n",
       "count  1000.000000  1000.000000   1000.000000   1000.000000  1000.000000   \n",
       "mean     -1.512791  2520.923949   2120.448916   8459.648266     3.747000   \n",
       "std       2.015813   747.470842   1587.054314   2074.355688     1.498224   \n",
       "min     -17.514000 -2459.880000  -7321.080000   -655.080000     2.160000   \n",
       "25%      -1.978575  2440.070000   1505.370000   7659.360000     2.160000   \n",
       "50%      -0.760800  2709.570000   1762.455000   8046.520000     5.160000   \n",
       "75%      -0.191055  2836.273250   2227.920000   8686.670000     5.160000   \n",
       "max      -0.060003  6563.120000  18814.920000  24004.920000     5.160000   \n",
       "\n",
       "                 F6           F7           F8           F9          F10  ...  \\\n",
       "count   1000.000000  1000.000000  1000.000000  1000.000000  1000.000000  ...   \n",
       "mean    8571.085469    -2.344597 -1249.307215  3205.505415    36.836583  ...   \n",
       "std     2108.672583     0.614178   493.077434   511.582397     9.723283  ...   \n",
       "min    -5873.790000    -5.111000 -4531.040000  -718.650000     5.420000  ...   \n",
       "25%     8291.085000    -2.724500 -1423.122500  3071.450000    30.700500  ...   \n",
       "50%     8986.140000    -2.210750 -1356.980000  3216.461500    36.759900  ...   \n",
       "75%     9414.442500    -1.857700 -1222.365000  3341.050000    42.986500  ...   \n",
       "max    19761.210000    -1.570592  1930.960000  6685.350000    75.180000  ...   \n",
       "\n",
       "               F12          F13          F14          F15          F16  \\\n",
       "count  1000.000000  1000.000000  1000.000000  1000.000000  1000.000000   \n",
       "mean      2.375746    14.382299     0.481000    -2.315266    -1.338608   \n",
       "std       1.805525    10.285697     0.499889     0.899919     0.901204   \n",
       "min       0.464400     4.232328     0.000000    -5.742000    -4.955000   \n",
       "25%       1.032950     7.422000     0.000000    -2.798250    -1.707000   \n",
       "50%       1.807400    11.312000     0.000000    -2.024800    -1.057250   \n",
       "75%       3.168500    17.182500     1.000000    -1.613575    -0.661825   \n",
       "max       9.444000    86.010000     1.000000    -1.341380    -0.402990   \n",
       "\n",
       "               F17          F18          F19          F20         F21  \n",
       "count  1000.000000  1000.000000  1000.000000  1000.000000  500.000000  \n",
       "mean      2.321917    -6.220027    -7.528717     0.507000   35.050560  \n",
       "std       1.805553     1.706913     1.739357     0.500201    3.188244  \n",
       "min       0.344240   -13.326000   -14.710000     0.000000   24.930000  \n",
       "25%       0.934900    -6.950000    -8.299000     0.000000   32.850000  \n",
       "50%       1.764500    -5.677500    -7.018100     1.000000   34.905000  \n",
       "75%       3.147000    -4.958000    -6.226650     1.000000   37.275000  \n",
       "max       9.316000    -4.422580    -5.684440     1.000000   45.360000  \n",
       "\n",
       "[8 rows x 21 columns]"
      ]
     },
     "execution_count": 6,
     "metadata": {},
     "output_type": "execute_result"
    }
   ],
   "source": [
    "# it shows the summary statistics of the data frame\n",
    "dataset.describe()"
   ]
  },
  {
   "cell_type": "code",
   "execution_count": 7,
   "id": "3bf33905",
   "metadata": {},
   "outputs": [
    {
     "name": "stdout",
     "output_type": "stream",
     "text": [
      "<class 'pandas.core.frame.DataFrame'>\n",
      "RangeIndex: 1000 entries, 0 to 999\n",
      "Data columns (total 22 columns):\n",
      " #   Column  Non-Null Count  Dtype  \n",
      "---  ------  --------------  -----  \n",
      " 0   F1      1000 non-null   float64\n",
      " 1   F2      1000 non-null   float64\n",
      " 2   F3      1000 non-null   float64\n",
      " 3   F4      1000 non-null   float64\n",
      " 4   F5      1000 non-null   float64\n",
      " 5   F6      1000 non-null   float64\n",
      " 6   F7      1000 non-null   float64\n",
      " 7   F8      1000 non-null   float64\n",
      " 8   F9      1000 non-null   float64\n",
      " 9   F10     1000 non-null   float64\n",
      " 10  F11     1000 non-null   float64\n",
      " 11  F12     1000 non-null   float64\n",
      " 12  F13     1000 non-null   float64\n",
      " 13  F14     1000 non-null   int64  \n",
      " 14  F15     1000 non-null   float64\n",
      " 15  F16     1000 non-null   float64\n",
      " 16  F17     1000 non-null   float64\n",
      " 17  F18     1000 non-null   float64\n",
      " 18  F19     1000 non-null   float64\n",
      " 19  F20     1000 non-null   int64  \n",
      " 20  F21     500 non-null    float64\n",
      " 21  Class   1000 non-null   bool   \n",
      "dtypes: bool(1), float64(19), int64(2)\n",
      "memory usage: 165.2 KB\n"
     ]
    }
   ],
   "source": [
    "# it helps to get the information about the dataframe\n",
    "dataset.info()"
   ]
  },
  {
   "cell_type": "code",
   "execution_count": 8,
   "id": "dd71b9b8",
   "metadata": {},
   "outputs": [
    {
     "data": {
      "image/png": "[encoded data removed]",
      "text/plain": [
       "<Figure size 2000x2000 with 25 Axes>"
      ]
     },
     "metadata": {},
     "output_type": "display_data"
    }
   ],
   "source": [
    "# to see the distribution of dataset\n",
    "dataset.hist(figsize=(20,20), color = 'DarkRed');"
   ]
  },
  {
   "cell_type": "code",
   "execution_count": 9,
   "id": "fe0cab1e",
   "metadata": {},
   "outputs": [
    {
     "data": {
      "text/plain": [
       "F1         0\n",
       "F2         0\n",
       "F3         0\n",
       "F4         0\n",
       "F5         0\n",
       "F6         0\n",
       "F7         0\n",
       "F8         0\n",
       "F9         0\n",
       "F10        0\n",
       "F11        0\n",
       "F12        0\n",
       "F13        0\n",
       "F14        0\n",
       "F15        0\n",
       "F16        0\n",
       "F17        0\n",
       "F18        0\n",
       "F19        0\n",
       "F20        0\n",
       "F21      500\n",
       "Class      0\n",
       "dtype: int64"
      ]
     },
     "execution_count": 9,
     "metadata": {},
     "output_type": "execute_result"
    }
   ],
   "source": [
    "# it will show the missing value\n",
    "dataset.isnull().sum()"
   ]
  },
  {
   "cell_type": "code",
   "execution_count": 10,
   "id": "9b3378c2",
   "metadata": {},
   "outputs": [],
   "source": [
    "percent_missing = dataset.F21.isnull().sum() * 100 / len(dataset.F21)\n",
    "#missing_value_dataset = pd.DataFrame({'dataset.F21': dataset.F21,\n",
    "#                                 'percent_missing': percent_missing})"
   ]
  },
  {
   "cell_type": "code",
   "execution_count": 11,
   "id": "ae215251",
   "metadata": {},
   "outputs": [
    {
     "name": "stdout",
     "output_type": "stream",
     "text": [
      "percentage of missing values in F21 column:  50.0\n"
     ]
    }
   ],
   "source": [
    "print('percentage of missing values in F21 column: ',percent_missing)"
   ]
  },
  {
   "cell_type": "code",
   "execution_count": 12,
   "id": "2fab6997",
   "metadata": {},
   "outputs": [
    {
     "data": {
      "text/plain": [
       "<AxesSubplot:>"
      ]
     },
     "execution_count": 12,
     "metadata": {},
     "output_type": "execute_result"
    },
    {
     "data": {
      "image/png": "[encoded data removed]",
      "text/plain": [
       "<Figure size 640x480 with 1 Axes>"
      ]
     },
     "metadata": {},
     "output_type": "display_data"
    }
   ],
   "source": [
    "# We can use seaborn to create a simple heatmap to see where we are missing the data!\n",
    "sns.heatmap(dataset.isnull(),yticklabels=False,cbar=False,cmap = \"summer\")"
   ]
  },
  {
   "cell_type": "markdown",
   "id": "544c7646",
   "metadata": {},
   "source": [
    "As missing percentage is 50%, which is reasonable enough to be dropped as it will be difficult for model to give the good result after imputing the values"
   ]
  },
  {
   "cell_type": "code",
   "execution_count": 13,
   "id": "f85afa03",
   "metadata": {},
   "outputs": [
    {
     "data": {
      "text/html": [
       "<div>\n",
       "<style scoped>\n",
       "    .dataframe tbody tr th:only-of-type {\n",
       "        vertical-align: middle;\n",
       "    }\n",
       "\n",
       "    .dataframe tbody tr th {\n",
       "        vertical-align: top;\n",
       "    }\n",
       "\n",
       "    .dataframe thead th {\n",
       "        text-align: right;\n",
       "    }\n",
       "</style>\n",
       "<table border=\"1\" class=\"dataframe\">\n",
       "  <thead>\n",
       "    <tr style=\"text-align: right;\">\n",
       "      <th></th>\n",
       "      <th>F1</th>\n",
       "      <th>F2</th>\n",
       "      <th>F3</th>\n",
       "      <th>F4</th>\n",
       "      <th>F5</th>\n",
       "      <th>F6</th>\n",
       "      <th>F7</th>\n",
       "      <th>F8</th>\n",
       "      <th>F9</th>\n",
       "      <th>F10</th>\n",
       "      <th>...</th>\n",
       "      <th>F12</th>\n",
       "      <th>F13</th>\n",
       "      <th>F14</th>\n",
       "      <th>F15</th>\n",
       "      <th>F16</th>\n",
       "      <th>F17</th>\n",
       "      <th>F18</th>\n",
       "      <th>F19</th>\n",
       "      <th>F20</th>\n",
       "      <th>Class</th>\n",
       "    </tr>\n",
       "  </thead>\n",
       "  <tbody>\n",
       "    <tr>\n",
       "      <th>0</th>\n",
       "      <td>-0.123210</td>\n",
       "      <td>2577.32</td>\n",
       "      <td>2183.52</td>\n",
       "      <td>7747.32</td>\n",
       "      <td>2.16</td>\n",
       "      <td>9693.21</td>\n",
       "      <td>-2.2498</td>\n",
       "      <td>-1381.98</td>\n",
       "      <td>3033.55</td>\n",
       "      <td>53.796</td>\n",
       "      <td>...</td>\n",
       "      <td>2.2986</td>\n",
       "      <td>6.7860</td>\n",
       "      <td>1</td>\n",
       "      <td>-3.9290</td>\n",
       "      <td>-0.8095</td>\n",
       "      <td>3.5800</td>\n",
       "      <td>-5.9384</td>\n",
       "      <td>-9.3420</td>\n",
       "      <td>1</td>\n",
       "      <td>True</td>\n",
       "    </tr>\n",
       "    <tr>\n",
       "      <th>1</th>\n",
       "      <td>-2.064600</td>\n",
       "      <td>1200.12</td>\n",
       "      <td>1654.74</td>\n",
       "      <td>6027.72</td>\n",
       "      <td>2.16</td>\n",
       "      <td>9391.26</td>\n",
       "      <td>-2.7420</td>\n",
       "      <td>-1336.20</td>\n",
       "      <td>2081.35</td>\n",
       "      <td>33.514</td>\n",
       "      <td>...</td>\n",
       "      <td>0.9676</td>\n",
       "      <td>5.5240</td>\n",
       "      <td>0</td>\n",
       "      <td>-1.6609</td>\n",
       "      <td>-2.3020</td>\n",
       "      <td>3.8880</td>\n",
       "      <td>-6.5640</td>\n",
       "      <td>-6.3806</td>\n",
       "      <td>1</td>\n",
       "      <td>False</td>\n",
       "    </tr>\n",
       "    <tr>\n",
       "      <th>2</th>\n",
       "      <td>-0.083748</td>\n",
       "      <td>2769.35</td>\n",
       "      <td>2661.42</td>\n",
       "      <td>7798.66</td>\n",
       "      <td>2.16</td>\n",
       "      <td>9296.28</td>\n",
       "      <td>-3.2130</td>\n",
       "      <td>-1531.16</td>\n",
       "      <td>3397.15</td>\n",
       "      <td>39.430</td>\n",
       "      <td>...</td>\n",
       "      <td>1.7296</td>\n",
       "      <td>10.0870</td>\n",
       "      <td>0</td>\n",
       "      <td>-2.5100</td>\n",
       "      <td>-2.8190</td>\n",
       "      <td>2.1606</td>\n",
       "      <td>-5.2340</td>\n",
       "      <td>-9.6780</td>\n",
       "      <td>0</td>\n",
       "      <td>False</td>\n",
       "    </tr>\n",
       "    <tr>\n",
       "      <th>3</th>\n",
       "      <td>-2.808300</td>\n",
       "      <td>3161.52</td>\n",
       "      <td>2199.12</td>\n",
       "      <td>8369.32</td>\n",
       "      <td>5.16</td>\n",
       "      <td>7990.71</td>\n",
       "      <td>-2.2703</td>\n",
       "      <td>-1397.03</td>\n",
       "      <td>3289.99</td>\n",
       "      <td>42.012</td>\n",
       "      <td>...</td>\n",
       "      <td>3.5320</td>\n",
       "      <td>15.5400</td>\n",
       "      <td>1</td>\n",
       "      <td>-2.2555</td>\n",
       "      <td>-0.9770</td>\n",
       "      <td>8.2160</td>\n",
       "      <td>-5.8166</td>\n",
       "      <td>-6.1512</td>\n",
       "      <td>0</td>\n",
       "      <td>True</td>\n",
       "    </tr>\n",
       "    <tr>\n",
       "      <th>4</th>\n",
       "      <td>-0.445800</td>\n",
       "      <td>2707.42</td>\n",
       "      <td>2083.62</td>\n",
       "      <td>9054.72</td>\n",
       "      <td>5.16</td>\n",
       "      <td>8691.81</td>\n",
       "      <td>-3.7310</td>\n",
       "      <td>-804.04</td>\n",
       "      <td>1903.35</td>\n",
       "      <td>43.172</td>\n",
       "      <td>...</td>\n",
       "      <td>0.5662</td>\n",
       "      <td>4.5188</td>\n",
       "      <td>0</td>\n",
       "      <td>-1.7843</td>\n",
       "      <td>-1.3690</td>\n",
       "      <td>0.7562</td>\n",
       "      <td>-6.4060</td>\n",
       "      <td>-9.5320</td>\n",
       "      <td>0</td>\n",
       "      <td>True</td>\n",
       "    </tr>\n",
       "  </tbody>\n",
       "</table>\n",
       "<p>5 rows × 21 columns</p>\n",
       "</div>"
      ],
      "text/plain": [
       "         F1       F2       F3       F4    F5       F6      F7       F8  \\\n",
       "0 -0.123210  2577.32  2183.52  7747.32  2.16  9693.21 -2.2498 -1381.98   \n",
       "1 -2.064600  1200.12  1654.74  6027.72  2.16  9391.26 -2.7420 -1336.20   \n",
       "2 -0.083748  2769.35  2661.42  7798.66  2.16  9296.28 -3.2130 -1531.16   \n",
       "3 -2.808300  3161.52  2199.12  8369.32  5.16  7990.71 -2.2703 -1397.03   \n",
       "4 -0.445800  2707.42  2083.62  9054.72  5.16  8691.81 -3.7310  -804.04   \n",
       "\n",
       "        F9     F10  ...     F12      F13  F14     F15     F16     F17     F18  \\\n",
       "0  3033.55  53.796  ...  2.2986   6.7860    1 -3.9290 -0.8095  3.5800 -5.9384   \n",
       "1  2081.35  33.514  ...  0.9676   5.5240    0 -1.6609 -2.3020  3.8880 -6.5640   \n",
       "2  3397.15  39.430  ...  1.7296  10.0870    0 -2.5100 -2.8190  2.1606 -5.2340   \n",
       "3  3289.99  42.012  ...  3.5320  15.5400    1 -2.2555 -0.9770  8.2160 -5.8166   \n",
       "4  1903.35  43.172  ...  0.5662   4.5188    0 -1.7843 -1.3690  0.7562 -6.4060   \n",
       "\n",
       "      F19  F20  Class  \n",
       "0 -9.3420    1   True  \n",
       "1 -6.3806    1  False  \n",
       "2 -9.6780    0  False  \n",
       "3 -6.1512    0   True  \n",
       "4 -9.5320    0   True  \n",
       "\n",
       "[5 rows x 21 columns]"
      ]
     },
     "execution_count": 13,
     "metadata": {},
     "output_type": "execute_result"
    }
   ],
   "source": [
    "dataset.drop(columns = 'F21', inplace=True)\n",
    "dataset.head()"
   ]
  },
  {
   "cell_type": "code",
   "execution_count": 14,
   "id": "0e0f5212",
   "metadata": {},
   "outputs": [],
   "source": [
    "X = dataset.drop(columns=['Class'],axis = True)\n",
    "Y = dataset['Class']"
   ]
  },
  {
   "cell_type": "code",
   "execution_count": 15,
   "id": "266b8a17",
   "metadata": {},
   "outputs": [
    {
     "data": {
      "text/plain": [
       "(1000, 20)"
      ]
     },
     "execution_count": 15,
     "metadata": {},
     "output_type": "execute_result"
    }
   ],
   "source": [
    "X.shape"
   ]
  },
  {
   "cell_type": "code",
   "execution_count": 16,
   "id": "821e156b",
   "metadata": {},
   "outputs": [
    {
     "data": {
      "text/plain": [
       "<AxesSubplot:>"
      ]
     },
     "execution_count": 16,
     "metadata": {},
     "output_type": "execute_result"
    },
    {
     "data": {
      "image/png": "[encoded data removed]",
      "text/plain": [
       "<Figure size 640x480 with 1 Axes>"
      ]
     },
     "metadata": {},
     "output_type": "display_data"
    }
   ],
   "source": [
    "# Here we can see that F21 is dropped from the dataset.\n",
    "sns.heatmap(dataset.isnull(),yticklabels=False,cbar=False,cmap = \"summer\")"
   ]
  },
  {
   "cell_type": "markdown",
   "id": "23423b21",
   "metadata": {},
   "source": [
    "## 4. Feature Scaling"
   ]
  },
  {
   "cell_type": "code",
   "execution_count": 17,
   "id": "ddd475f3",
   "metadata": {},
   "outputs": [],
   "source": [
    "#provides an input for the pseudo-random number generator in Python\n",
    "np.random.seed(42)"
   ]
  },
  {
   "cell_type": "code",
   "execution_count": 18,
   "id": "89a6d33e",
   "metadata": {},
   "outputs": [],
   "source": [
    "# After trying different scaling feature like standard scaler, MinMax Scaler & Robust scaler, I choose robust scaler\n",
    "rc = RobustScaler()"
   ]
  },
  {
   "cell_type": "code",
   "execution_count": 19,
   "id": "0cee3766",
   "metadata": {},
   "outputs": [
    {
     "data": {
      "text/html": [
       "<div>\n",
       "<style scoped>\n",
       "    .dataframe tbody tr th:only-of-type {\n",
       "        vertical-align: middle;\n",
       "    }\n",
       "\n",
       "    .dataframe tbody tr th {\n",
       "        vertical-align: top;\n",
       "    }\n",
       "\n",
       "    .dataframe thead th {\n",
       "        text-align: right;\n",
       "    }\n",
       "</style>\n",
       "<table border=\"1\" class=\"dataframe\">\n",
       "  <thead>\n",
       "    <tr style=\"text-align: right;\">\n",
       "      <th></th>\n",
       "      <th>F1</th>\n",
       "      <th>F2</th>\n",
       "      <th>F3</th>\n",
       "      <th>F4</th>\n",
       "      <th>F5</th>\n",
       "      <th>F6</th>\n",
       "      <th>F7</th>\n",
       "      <th>F8</th>\n",
       "      <th>F9</th>\n",
       "      <th>F10</th>\n",
       "      <th>F11</th>\n",
       "      <th>F12</th>\n",
       "      <th>F13</th>\n",
       "      <th>F14</th>\n",
       "      <th>F15</th>\n",
       "      <th>F16</th>\n",
       "      <th>F17</th>\n",
       "      <th>F18</th>\n",
       "      <th>F19</th>\n",
       "      <th>F20</th>\n",
       "    </tr>\n",
       "  </thead>\n",
       "  <tbody>\n",
       "    <tr>\n",
       "      <th>0</th>\n",
       "      <td>0.356690</td>\n",
       "      <td>-0.333793</td>\n",
       "      <td>0.582749</td>\n",
       "      <td>-0.291246</td>\n",
       "      <td>-1.0</td>\n",
       "      <td>0.629426</td>\n",
       "      <td>-0.045051</td>\n",
       "      <td>-0.124528</td>\n",
       "      <td>-0.678455</td>\n",
       "      <td>1.386627</td>\n",
       "      <td>-0.148648</td>\n",
       "      <td>0.230011</td>\n",
       "      <td>-0.463706</td>\n",
       "      <td>1.0</td>\n",
       "      <td>-1.607361</td>\n",
       "      <td>0.237042</td>\n",
       "      <td>0.820713</td>\n",
       "      <td>-0.130974</td>\n",
       "      <td>-1.121384</td>\n",
       "      <td>0.0</td>\n",
       "    </tr>\n",
       "    <tr>\n",
       "      <th>1</th>\n",
       "      <td>-0.729390</td>\n",
       "      <td>-3.809787</td>\n",
       "      <td>-0.149076</td>\n",
       "      <td>-1.965132</td>\n",
       "      <td>-1.0</td>\n",
       "      <td>0.360633</td>\n",
       "      <td>-0.612886</td>\n",
       "      <td>0.103508</td>\n",
       "      <td>-4.210354</td>\n",
       "      <td>-0.264195</td>\n",
       "      <td>0.146201</td>\n",
       "      <td>-0.393248</td>\n",
       "      <td>-0.593002</td>\n",
       "      <td>0.0</td>\n",
       "      <td>0.307173</td>\n",
       "      <td>-1.190949</td>\n",
       "      <td>0.959948</td>\n",
       "      <td>-0.445030</td>\n",
       "      <td>0.307622</td>\n",
       "      <td>0.0</td>\n",
       "    </tr>\n",
       "    <tr>\n",
       "      <th>2</th>\n",
       "      <td>0.378766</td>\n",
       "      <td>0.150882</td>\n",
       "      <td>1.244156</td>\n",
       "      <td>-0.241271</td>\n",
       "      <td>-1.0</td>\n",
       "      <td>0.276083</td>\n",
       "      <td>-1.156264</td>\n",
       "      <td>-0.867614</td>\n",
       "      <td>0.670210</td>\n",
       "      <td>0.217329</td>\n",
       "      <td>-0.713309</td>\n",
       "      <td>-0.036431</td>\n",
       "      <td>-0.125506</td>\n",
       "      <td>0.0</td>\n",
       "      <td>-0.409564</td>\n",
       "      <td>-1.685603</td>\n",
       "      <td>0.179061</td>\n",
       "      <td>0.222641</td>\n",
       "      <td>-1.283519</td>\n",
       "      <td>-1.0</td>\n",
       "    </tr>\n",
       "    <tr>\n",
       "      <th>3</th>\n",
       "      <td>-1.145442</td>\n",
       "      <td>1.140702</td>\n",
       "      <td>0.604339</td>\n",
       "      <td>0.314219</td>\n",
       "      <td>0.0</td>\n",
       "      <td>-0.886120</td>\n",
       "      <td>-0.068701</td>\n",
       "      <td>-0.199494</td>\n",
       "      <td>0.272732</td>\n",
       "      <td>0.427487</td>\n",
       "      <td>-8.185061</td>\n",
       "      <td>0.807567</td>\n",
       "      <td>0.433175</td>\n",
       "      <td>1.0</td>\n",
       "      <td>-0.194737</td>\n",
       "      <td>0.076781</td>\n",
       "      <td>2.916459</td>\n",
       "      <td>-0.069829</td>\n",
       "      <td>0.418317</td>\n",
       "      <td>-1.0</td>\n",
       "    </tr>\n",
       "    <tr>\n",
       "      <th>4</th>\n",
       "      <td>0.176222</td>\n",
       "      <td>-0.005427</td>\n",
       "      <td>0.444488</td>\n",
       "      <td>0.981398</td>\n",
       "      <td>0.0</td>\n",
       "      <td>-0.262009</td>\n",
       "      <td>-1.753865</td>\n",
       "      <td>2.754268</td>\n",
       "      <td>-4.870592</td>\n",
       "      <td>0.521903</td>\n",
       "      <td>-0.311683</td>\n",
       "      <td>-0.581209</td>\n",
       "      <td>-0.695989</td>\n",
       "      <td>0.0</td>\n",
       "      <td>0.203009</td>\n",
       "      <td>-0.298275</td>\n",
       "      <td>-0.455811</td>\n",
       "      <td>-0.365713</td>\n",
       "      <td>-1.213067</td>\n",
       "      <td>-1.0</td>\n",
       "    </tr>\n",
       "  </tbody>\n",
       "</table>\n",
       "</div>"
      ],
      "text/plain": [
       "         F1        F2        F3        F4   F5        F6        F7        F8  \\\n",
       "0  0.356690 -0.333793  0.582749 -0.291246 -1.0  0.629426 -0.045051 -0.124528   \n",
       "1 -0.729390 -3.809787 -0.149076 -1.965132 -1.0  0.360633 -0.612886  0.103508   \n",
       "2  0.378766  0.150882  1.244156 -0.241271 -1.0  0.276083 -1.156264 -0.867614   \n",
       "3 -1.145442  1.140702  0.604339  0.314219  0.0 -0.886120 -0.068701 -0.199494   \n",
       "4  0.176222 -0.005427  0.444488  0.981398  0.0 -0.262009 -1.753865  2.754268   \n",
       "\n",
       "         F9       F10       F11       F12       F13  F14       F15       F16  \\\n",
       "0 -0.678455  1.386627 -0.148648  0.230011 -0.463706  1.0 -1.607361  0.237042   \n",
       "1 -4.210354 -0.264195  0.146201 -0.393248 -0.593002  0.0  0.307173 -1.190949   \n",
       "2  0.670210  0.217329 -0.713309 -0.036431 -0.125506  0.0 -0.409564 -1.685603   \n",
       "3  0.272732  0.427487 -8.185061  0.807567  0.433175  1.0 -0.194737  0.076781   \n",
       "4 -4.870592  0.521903 -0.311683 -0.581209 -0.695989  0.0  0.203009 -0.298275   \n",
       "\n",
       "        F17       F18       F19  F20  \n",
       "0  0.820713 -0.130974 -1.121384  0.0  \n",
       "1  0.959948 -0.445030  0.307622  0.0  \n",
       "2  0.179061  0.222641 -1.283519 -1.0  \n",
       "3  2.916459 -0.069829  0.418317 -1.0  \n",
       "4 -0.455811 -0.365713 -1.213067 -1.0  "
      ]
     },
     "execution_count": 19,
     "metadata": {},
     "output_type": "execute_result"
    }
   ],
   "source": [
    "X_Robust = pd.DataFrame(rc.fit_transform(X),columns=X.columns)\n",
    "X_Robust.head()"
   ]
  },
  {
   "cell_type": "markdown",
   "id": "a3c3477f",
   "metadata": {},
   "source": []
  },
  {
   "cell_type": "code",
   "execution_count": 20,
   "id": "026f6445",
   "metadata": {},
   "outputs": [],
   "source": [
    "#data is splitted into train-test to apply on the model\n",
    "X_train,X_test,Y_train,Y_test = train_test_split(X_Robust,Y,test_size=0.2)"
   ]
  },
  {
   "cell_type": "markdown",
   "id": "e6118c66",
   "metadata": {},
   "source": [
    "## 5. Checked different model"
   ]
  },
  {
   "cell_type": "code",
   "execution_count": 21,
   "id": "489d7b8f",
   "metadata": {},
   "outputs": [
    {
     "data": {
      "text/html": [
       "<div>\n",
       "<style scoped>\n",
       "    .dataframe tbody tr th:only-of-type {\n",
       "        vertical-align: middle;\n",
       "    }\n",
       "\n",
       "    .dataframe tbody tr th {\n",
       "        vertical-align: top;\n",
       "    }\n",
       "\n",
       "    .dataframe thead th {\n",
       "        text-align: right;\n",
       "    }\n",
       "</style>\n",
       "<table border=\"1\" class=\"dataframe\">\n",
       "  <thead>\n",
       "    <tr style=\"text-align: right;\">\n",
       "      <th></th>\n",
       "      <th>MLA Name</th>\n",
       "      <th>MLA Train Accuracy</th>\n",
       "      <th>MLA Test Accuracy</th>\n",
       "      <th>MLA Precision</th>\n",
       "      <th>MLA Recall</th>\n",
       "      <th>MLA AUC</th>\n",
       "    </tr>\n",
       "  </thead>\n",
       "  <tbody>\n",
       "    <tr>\n",
       "      <th>0</th>\n",
       "      <td>RandomForestClassifier</td>\n",
       "      <td>1.00</td>\n",
       "      <td>0.855</td>\n",
       "      <td>0.839286</td>\n",
       "      <td>0.895238</td>\n",
       "      <td>0.852882</td>\n",
       "    </tr>\n",
       "    <tr>\n",
       "      <th>1</th>\n",
       "      <td>DecisionTreeClassifier</td>\n",
       "      <td>1.00</td>\n",
       "      <td>0.785</td>\n",
       "      <td>0.798077</td>\n",
       "      <td>0.790476</td>\n",
       "      <td>0.784712</td>\n",
       "    </tr>\n",
       "    <tr>\n",
       "      <th>2</th>\n",
       "      <td>LogisticRegression</td>\n",
       "      <td>0.68</td>\n",
       "      <td>0.685</td>\n",
       "      <td>0.762500</td>\n",
       "      <td>0.580952</td>\n",
       "      <td>0.690476</td>\n",
       "    </tr>\n",
       "  </tbody>\n",
       "</table>\n",
       "</div>"
      ],
      "text/plain": [
       "                 MLA Name  MLA Train Accuracy  MLA Test Accuracy  \\\n",
       "0  RandomForestClassifier                1.00              0.855   \n",
       "1  DecisionTreeClassifier                1.00              0.785   \n",
       "2      LogisticRegression                0.68              0.685   \n",
       "\n",
       "   MLA Precision  MLA Recall   MLA AUC  \n",
       "0       0.839286    0.895238  0.852882  \n",
       "1       0.798077    0.790476  0.784712  \n",
       "2       0.762500    0.580952  0.690476  "
      ]
     },
     "execution_count": 21,
     "metadata": {},
     "output_type": "execute_result"
    }
   ],
   "source": [
    "models_rc = [\n",
    "    RandomForestClassifier(),\n",
    "    LogisticRegression(),\n",
    "    DecisionTreeClassifier(),\n",
    "]\n",
    "MLA_columns = []\n",
    "MLA_compare = pd.DataFrame(columns = MLA_columns)\n",
    "\n",
    "\n",
    "row_index = 0\n",
    "for alg in models_rc:\n",
    "    predicted = alg.fit(X_train, Y_train).predict(X_test)\n",
    "    fp, tp, th = roc_curve(Y_test, predicted)\n",
    "    MLA_name = alg.__class__.__name__\n",
    "    MLA_compare.loc[row_index,'MLA Name'] = MLA_name\n",
    "    MLA_compare.loc[row_index, 'MLA Train Accuracy'] = round(alg.score(X_train, Y_train), 4)\n",
    "    MLA_compare.loc[row_index, 'MLA Test Accuracy'] = round(alg.score(X_test, Y_test), 4)\n",
    "    MLA_compare.loc[row_index, 'MLA Precision'] = precision_score(Y_test, predicted)\n",
    "    MLA_compare.loc[row_index, 'MLA Recall'] = recall_score(Y_test, predicted)\n",
    "    MLA_compare.loc[row_index, 'MLA AUC'] = auc(fp, tp)\n",
    "    row_index=row_index+1\n",
    "    \n",
    "MLA_compare.sort_values(by = ['MLA Test Accuracy'], ascending = False, inplace = True)    \n",
    "MLA_compare.reset_index(inplace=True,drop='index')\n",
    "MLA_compare"
   ]
  },
  {
   "cell_type": "markdown",
   "id": "6c8d81b1",
   "metadata": {},
   "source": [
    "## 5. HyperParameter Tunning"
   ]
  },
  {
   "cell_type": "markdown",
   "id": "336693f9",
   "metadata": {},
   "source": [
    "first we will apply hyperparameter tunning on Random forest Classisfier"
   ]
  },
  {
   "cell_type": "code",
   "execution_count": 22,
   "id": "fb70845a",
   "metadata": {},
   "outputs": [],
   "source": [
    "rfc_tunning = RandomForestClassifier()"
   ]
  },
  {
   "cell_type": "code",
   "execution_count": 23,
   "id": "e80a3099",
   "metadata": {},
   "outputs": [
    {
     "name": "stdout",
     "output_type": "stream",
     "text": [
      "Fitting 3 folds for each of 10 candidates, totalling 30 fits\n"
     ]
    },
    {
     "data": {
      "text/plain": [
       "RandomizedSearchCV(cv=3, estimator=RandomForestClassifier(), n_jobs=-1,\n",
       "                   param_distributions={'bootstrap': [True, False],\n",
       "                                        'max_depth': [10, 20, 30, 40, 50, 60,\n",
       "                                                      70, 80, 90, 100, 110,\n",
       "                                                      None],\n",
       "                                        'max_features': ['auto', 'sqrt'],\n",
       "                                        'min_samples_leaf': [1, 2, 4],\n",
       "                                        'min_samples_split': [2, 5, 10],\n",
       "                                        'n_estimators': [200, 400, 600, 800,\n",
       "                                                         1000, 1200, 1400, 1600,\n",
       "                                                         1800, 2000]},\n",
       "                   random_state=42, verbose=2)"
      ]
     },
     "execution_count": 23,
     "metadata": {},
     "output_type": "execute_result"
    }
   ],
   "source": [
    "n_estimators = [int(x) for x in np.linspace(start = 200, stop = 2000, num = 10)]\n",
    "max_features = ['auto', 'sqrt']\n",
    "max_depth = [int(x) for x in np.linspace(10, 110, num = 11)]\n",
    "max_depth.append(None)\n",
    "min_samples_split = [2, 5, 10]\n",
    "min_samples_leaf = [1, 2, 4]\n",
    "bootstrap = [True, False]\n",
    "random_grid = {'n_estimators': n_estimators,\n",
    "               'max_features': max_features,\n",
    "               'max_depth': max_depth,\n",
    "               'min_samples_split': min_samples_split,\n",
    "               'min_samples_leaf': min_samples_leaf,\n",
    "               'bootstrap': bootstrap}\n",
    "\n",
    "\n",
    "rf_random = RandomizedSearchCV(estimator = rfc_tunning, param_distributions = random_grid, n_iter = 10, cv = 3, verbose=2, random_state=42, n_jobs = -1)\n",
    "\n",
    "rf_random.fit(X_train,Y_train)"
   ]
  },
  {
   "cell_type": "code",
   "execution_count": 24,
   "id": "af44c888",
   "metadata": {},
   "outputs": [
    {
     "data": {
      "text/plain": [
       "RandomForestClassifier(bootstrap=False, max_depth=50, min_samples_leaf=2,\n",
       "                       n_estimators=2000)"
      ]
     },
     "execution_count": 24,
     "metadata": {},
     "output_type": "execute_result"
    }
   ],
   "source": [
    "rf_random.best_estimator_"
   ]
  },
  {
   "cell_type": "code",
   "execution_count": 25,
   "id": "397815f9",
   "metadata": {},
   "outputs": [],
   "source": [
    "rfc_tunning = RandomForestClassifier(bootstrap=False, max_depth=50, min_samples_leaf=2,\n",
    "                       n_estimators=2000)\n",
    "\n",
    "rfc_tunning.fit(X_train,Y_train)\n",
    "\n",
    "y_pred_rfc_tunning = rfc_tunning.predict(X_test)\n"
   ]
  },
  {
   "cell_type": "markdown",
   "id": "165379ff",
   "metadata": {},
   "source": [
    "hyperparameter tunning on Decision Tree Classifier"
   ]
  },
  {
   "cell_type": "code",
   "execution_count": 26,
   "id": "2f3ebd79",
   "metadata": {},
   "outputs": [],
   "source": [
    "dtc = DecisionTreeClassifier()"
   ]
  },
  {
   "cell_type": "code",
   "execution_count": 27,
   "id": "7dc80ff1",
   "metadata": {},
   "outputs": [
    {
     "data": {
      "text/plain": [
       "RandomizedSearchCV(cv=10, estimator=DecisionTreeClassifier(), n_jobs=-1,\n",
       "                   param_distributions={'criterion': ['gini', 'entropy'],\n",
       "                                        'max_depth': [1, 2, 3, 4, 5, 6, 7,\n",
       "                                                      None]})"
      ]
     },
     "execution_count": 27,
     "metadata": {},
     "output_type": "execute_result"
    }
   ],
   "source": [
    "param_dt = {\n",
    "    \"criterion\":[\"gini\", \"entropy\"],\n",
    "    \"max_depth\":[1,2,3,4,5,6,7,None]\n",
    "}\n",
    "\n",
    "grid=RandomizedSearchCV(dtc, param_distributions = param_dt, cv=10, n_jobs=-1)\n",
    "\n",
    "grid.fit(X_train, Y_train)"
   ]
  },
  {
   "cell_type": "code",
   "execution_count": 28,
   "id": "418c58f3",
   "metadata": {},
   "outputs": [
    {
     "data": {
      "text/plain": [
       "DecisionTreeClassifier(criterion='entropy', max_depth=5)"
      ]
     },
     "execution_count": 28,
     "metadata": {},
     "output_type": "execute_result"
    }
   ],
   "source": [
    "grid.best_estimator_"
   ]
  },
  {
   "cell_type": "code",
   "execution_count": 29,
   "id": "f495489d",
   "metadata": {},
   "outputs": [],
   "source": [
    "dtc = DecisionTreeClassifier(criterion='entropy', max_depth=5)\n",
    "\n",
    "dtc.fit(X_train,Y_train)\n",
    "\n",
    "dtc_tunning = dtc.predict(X_test)"
   ]
  },
  {
   "cell_type": "markdown",
   "id": "e79e70ca",
   "metadata": {},
   "source": [
    "hyperparameter tunning on Logistic Regression"
   ]
  },
  {
   "cell_type": "code",
   "execution_count": 30,
   "id": "59bd9f78",
   "metadata": {},
   "outputs": [
    {
     "name": "stderr",
     "output_type": "stream",
     "text": [
      "C:\\Users\\Akshitta Sarin\\anaconda3\\lib\\site-packages\\sklearn\\model_selection\\_validation.py:372: FitFailedWarning: \n",
      "60 fits failed out of a total of 100.\n",
      "The score on these train-test partitions for these parameters will be set to nan.\n",
      "If these failures are not expected, you can try to debug them by setting error_score='raise'.\n",
      "\n",
      "Below are more details about the failures:\n",
      "--------------------------------------------------------------------------------\n",
      "10 fits failed with the following error:\n",
      "Traceback (most recent call last):\n",
      "  File \"C:\\Users\\Akshitta Sarin\\anaconda3\\lib\\site-packages\\sklearn\\model_selection\\_validation.py\", line 680, in _fit_and_score\n",
      "    estimator.fit(X_train, y_train, **fit_params)\n",
      "  File \"C:\\Users\\Akshitta Sarin\\anaconda3\\lib\\site-packages\\sklearn\\linear_model\\_logistic.py\", line 1471, in fit\n",
      "    raise ValueError(\n",
      "ValueError: l1_ratio must be between 0 and 1; got (l1_ratio=None)\n",
      "\n",
      "--------------------------------------------------------------------------------\n",
      "10 fits failed with the following error:\n",
      "Traceback (most recent call last):\n",
      "  File \"C:\\Users\\Akshitta Sarin\\anaconda3\\lib\\site-packages\\sklearn\\model_selection\\_validation.py\", line 680, in _fit_and_score\n",
      "    estimator.fit(X_train, y_train, **fit_params)\n",
      "  File \"C:\\Users\\Akshitta Sarin\\anaconda3\\lib\\site-packages\\sklearn\\linear_model\\_logistic.py\", line 1461, in fit\n",
      "    solver = _check_solver(self.solver, self.penalty, self.dual)\n",
      "  File \"C:\\Users\\Akshitta Sarin\\anaconda3\\lib\\site-packages\\sklearn\\linear_model\\_logistic.py\", line 447, in _check_solver\n",
      "    raise ValueError(\n",
      "ValueError: Solver newton-cg supports only 'l2' or 'none' penalties, got l1 penalty.\n",
      "\n",
      "--------------------------------------------------------------------------------\n",
      "10 fits failed with the following error:\n",
      "Traceback (most recent call last):\n",
      "  File \"C:\\Users\\Akshitta Sarin\\anaconda3\\lib\\site-packages\\sklearn\\model_selection\\_validation.py\", line 680, in _fit_and_score\n",
      "    estimator.fit(X_train, y_train, **fit_params)\n",
      "  File \"C:\\Users\\Akshitta Sarin\\anaconda3\\lib\\site-packages\\sklearn\\linear_model\\_logistic.py\", line 1461, in fit\n",
      "    solver = _check_solver(self.solver, self.penalty, self.dual)\n",
      "  File \"C:\\Users\\Akshitta Sarin\\anaconda3\\lib\\site-packages\\sklearn\\linear_model\\_logistic.py\", line 457, in _check_solver\n",
      "    raise ValueError(\n",
      "ValueError: Only 'saga' solver supports elasticnet penalty, got solver=liblinear.\n",
      "\n",
      "--------------------------------------------------------------------------------\n",
      "10 fits failed with the following error:\n",
      "Traceback (most recent call last):\n",
      "  File \"C:\\Users\\Akshitta Sarin\\anaconda3\\lib\\site-packages\\sklearn\\model_selection\\_validation.py\", line 680, in _fit_and_score\n",
      "    estimator.fit(X_train, y_train, **fit_params)\n",
      "  File \"C:\\Users\\Akshitta Sarin\\anaconda3\\lib\\site-packages\\sklearn\\linear_model\\_logistic.py\", line 1461, in fit\n",
      "    solver = _check_solver(self.solver, self.penalty, self.dual)\n",
      "  File \"C:\\Users\\Akshitta Sarin\\anaconda3\\lib\\site-packages\\sklearn\\linear_model\\_logistic.py\", line 447, in _check_solver\n",
      "    raise ValueError(\n",
      "ValueError: Solver sag supports only 'l2' or 'none' penalties, got elasticnet penalty.\n",
      "\n",
      "--------------------------------------------------------------------------------\n",
      "20 fits failed with the following error:\n",
      "Traceback (most recent call last):\n",
      "  File \"C:\\Users\\Akshitta Sarin\\anaconda3\\lib\\site-packages\\sklearn\\model_selection\\_validation.py\", line 680, in _fit_and_score\n",
      "    estimator.fit(X_train, y_train, **fit_params)\n",
      "  File \"C:\\Users\\Akshitta Sarin\\anaconda3\\lib\\site-packages\\sklearn\\linear_model\\_logistic.py\", line 1461, in fit\n",
      "    solver = _check_solver(self.solver, self.penalty, self.dual)\n",
      "  File \"C:\\Users\\Akshitta Sarin\\anaconda3\\lib\\site-packages\\sklearn\\linear_model\\_logistic.py\", line 464, in _check_solver\n",
      "    raise ValueError(\"penalty='none' is not supported for the liblinear solver\")\n",
      "ValueError: penalty='none' is not supported for the liblinear solver\n",
      "\n",
      "  warnings.warn(some_fits_failed_message, FitFailedWarning)\n",
      "C:\\Users\\Akshitta Sarin\\anaconda3\\lib\\site-packages\\sklearn\\model_selection\\_search.py:969: UserWarning: One or more of the test scores are non-finite: [ nan 0.66 0.66 0.66 0.66  nan  nan  nan  nan  nan]\n",
      "  warnings.warn(\n",
      "C:\\Users\\Akshitta Sarin\\anaconda3\\lib\\site-packages\\sklearn\\linear_model\\_logistic.py:1483: UserWarning: Setting penalty='none' will ignore the C and l1_ratio parameters\n",
      "  warnings.warn(\n"
     ]
    },
    {
     "data": {
      "text/plain": [
       "RandomizedSearchCV(cv=10, estimator=LogisticRegression(), n_jobs=-1,\n",
       "                   param_distributions=[{'C': array([1.00000000e-04, 2.63665090e-04, 6.95192796e-04, 1.83298071e-03,\n",
       "       4.83293024e-03, 1.27427499e-02, 3.35981829e-02, 8.85866790e-02,\n",
       "       2.33572147e-01, 6.15848211e-01, 1.62377674e+00, 4.28133240e+00,\n",
       "       1.12883789e+01, 2.97635144e+01, 7.84759970e+01, 2.06913808e+02,\n",
       "       5.45559478e+02, 1.43844989e+03, 3.79269019e+03, 1.00000000e+04]),\n",
       "                                         'max_iter': [100, 1000, 2500, 5000],\n",
       "                                         'penalty': ['l1', 'l2', 'elasticnet',\n",
       "                                                     'none'],\n",
       "                                         'solver': ['lbfgs', 'newton-cg',\n",
       "                                                    'liblinear', 'sag',\n",
       "                                                    'saga']}])"
      ]
     },
     "execution_count": 30,
     "metadata": {},
     "output_type": "execute_result"
    }
   ],
   "source": [
    "lr = LogisticRegression()\n",
    "\n",
    "param_grid = [    \n",
    "    {'penalty' : ['l1', 'l2', 'elasticnet', 'none'],\n",
    "    'C' : np.logspace(-4, 4, 20),\n",
    "    'solver' : ['lbfgs','newton-cg','liblinear','sag','saga'],\n",
    "    'max_iter' : [100, 1000,2500, 5000]\n",
    "    }\n",
    "]\n",
    "grid_lr=RandomizedSearchCV(lr, param_distributions = param_grid, cv=10, n_iter=10,n_jobs=-1)\n",
    "\n",
    "grid_lr.fit(X_train, Y_train)"
   ]
  },
  {
   "cell_type": "code",
   "execution_count": 31,
   "id": "4b52a4ad",
   "metadata": {},
   "outputs": [
    {
     "data": {
      "text/plain": [
       "LogisticRegression(C=0.615848211066026, penalty='none')"
      ]
     },
     "execution_count": 31,
     "metadata": {},
     "output_type": "execute_result"
    }
   ],
   "source": [
    "grid_lr.best_estimator_"
   ]
  },
  {
   "cell_type": "code",
   "execution_count": 33,
   "id": "adba75a7",
   "metadata": {},
   "outputs": [
    {
     "name": "stderr",
     "output_type": "stream",
     "text": [
      "C:\\Users\\Akshitta Sarin\\anaconda3\\lib\\site-packages\\sklearn\\linear_model\\_logistic.py:1483: UserWarning: Setting penalty='none' will ignore the C and l1_ratio parameters\n",
      "  warnings.warn(\n",
      "C:\\Users\\Akshitta Sarin\\anaconda3\\lib\\site-packages\\sklearn\\linear_model\\_sag.py:352: ConvergenceWarning: The max_iter was reached which means the coef_ did not converge\n",
      "  warnings.warn(\n"
     ]
    }
   ],
   "source": [
    "lr_tunning = LogisticRegression(C=4.281332398719396, max_iter=2500, penalty='none',\n",
    "                   solver='saga')\n",
    "lr_tunning.fit(X_train,Y_train)\n",
    "\n",
    "y_pred_tunning = lr_tunning.predict(X_test)\n"
   ]
  },
  {
   "cell_type": "code",
   "execution_count": 35,
   "id": "243cdce9",
   "metadata": {},
   "outputs": [
    {
     "name": "stderr",
     "output_type": "stream",
     "text": [
      "C:\\Users\\Akshitta Sarin\\anaconda3\\lib\\site-packages\\sklearn\\linear_model\\_logistic.py:1483: UserWarning: Setting penalty='none' will ignore the C and l1_ratio parameters\n",
      "  warnings.warn(\n",
      "C:\\Users\\Akshitta Sarin\\anaconda3\\lib\\site-packages\\sklearn\\linear_model\\_sag.py:352: ConvergenceWarning: The max_iter was reached which means the coef_ did not converge\n",
      "  warnings.warn(\n"
     ]
    },
    {
     "data": {
      "text/html": [
       "<div>\n",
       "<style scoped>\n",
       "    .dataframe tbody tr th:only-of-type {\n",
       "        vertical-align: middle;\n",
       "    }\n",
       "\n",
       "    .dataframe tbody tr th {\n",
       "        vertical-align: top;\n",
       "    }\n",
       "\n",
       "    .dataframe thead th {\n",
       "        text-align: right;\n",
       "    }\n",
       "</style>\n",
       "<table border=\"1\" class=\"dataframe\">\n",
       "  <thead>\n",
       "    <tr style=\"text-align: right;\">\n",
       "      <th></th>\n",
       "      <th>MLA Name</th>\n",
       "      <th>MLA Train Accuracy</th>\n",
       "      <th>MLA Test Accuracy</th>\n",
       "      <th>MLA Precision</th>\n",
       "      <th>MLA Recall</th>\n",
       "      <th>MLA AUC</th>\n",
       "    </tr>\n",
       "  </thead>\n",
       "  <tbody>\n",
       "    <tr>\n",
       "      <th>0</th>\n",
       "      <td>DecisionTreeClassifier</td>\n",
       "      <td>0.925</td>\n",
       "      <td>0.925</td>\n",
       "      <td>0.916667</td>\n",
       "      <td>0.942857</td>\n",
       "      <td>0.924060</td>\n",
       "    </tr>\n",
       "    <tr>\n",
       "      <th>1</th>\n",
       "      <td>RandomForestClassifier</td>\n",
       "      <td>1.000</td>\n",
       "      <td>0.870</td>\n",
       "      <td>0.849558</td>\n",
       "      <td>0.914286</td>\n",
       "      <td>0.867669</td>\n",
       "    </tr>\n",
       "    <tr>\n",
       "      <th>2</th>\n",
       "      <td>LogisticRegression</td>\n",
       "      <td>0.695</td>\n",
       "      <td>0.690</td>\n",
       "      <td>0.752941</td>\n",
       "      <td>0.609524</td>\n",
       "      <td>0.694236</td>\n",
       "    </tr>\n",
       "  </tbody>\n",
       "</table>\n",
       "</div>"
      ],
      "text/plain": [
       "                 MLA Name  MLA Train Accuracy  MLA Test Accuracy  \\\n",
       "0  DecisionTreeClassifier               0.925              0.925   \n",
       "1  RandomForestClassifier               1.000              0.870   \n",
       "2      LogisticRegression               0.695              0.690   \n",
       "\n",
       "   MLA Precision  MLA Recall   MLA AUC  \n",
       "0       0.916667    0.942857  0.924060  \n",
       "1       0.849558    0.914286  0.867669  \n",
       "2       0.752941    0.609524  0.694236  "
      ]
     },
     "execution_count": 35,
     "metadata": {},
     "output_type": "execute_result"
    }
   ],
   "source": [
    "# Analysis of all three models after hyperparameter tunning\n",
    "model_tunning = [\n",
    "   \n",
    "    RandomForestClassifier(bootstrap=False, max_depth=50, min_samples_leaf=2,\n",
    "                       n_estimators=2000),\n",
    "    LogisticRegression(C=4.281332398719396, max_iter=2500, penalty='none',\n",
    "                   solver='saga'),\n",
    "    DecisionTreeClassifier(criterion='entropy', max_depth=5),\n",
    "]\n",
    "MLA_columns = []\n",
    "MLA_compare = pd.DataFrame(columns = MLA_columns)\n",
    "\n",
    "\n",
    "row_index = 0\n",
    "for alg in model_tunning:\n",
    "    predicted = alg.fit(X_train, Y_train).predict(X_test)\n",
    "    fp, tp, th = roc_curve(Y_test, predicted)\n",
    "    MLA_name = alg.__class__.__name__\n",
    "    MLA_compare.loc[row_index,'MLA Name'] = MLA_name\n",
    "    MLA_compare.loc[row_index, 'MLA Train Accuracy'] = round(alg.score(X_train, Y_train), 4)\n",
    "    MLA_compare.loc[row_index, 'MLA Test Accuracy'] = round(alg.score(X_test, Y_test), 4)\n",
    "    MLA_compare.loc[row_index, 'MLA Precision'] = precision_score(Y_test, predicted)\n",
    "    MLA_compare.loc[row_index, 'MLA Recall'] = recall_score(Y_test, predicted)\n",
    "    MLA_compare.loc[row_index, 'MLA AUC'] = auc(fp, tp)\n",
    "    row_index=row_index+1\n",
    "    \n",
    "MLA_compare.sort_values(by = ['MLA Test Accuracy'], ascending = False, inplace = True)    \n",
    "MLA_compare.reset_index(inplace=True,drop='index')\n",
    "MLA_compare\n"
   ]
  },
  {
   "cell_type": "markdown",
   "id": "63774eed",
   "metadata": {},
   "source": [
    "## 6. Confusion matrix of Decision Tree"
   ]
  },
  {
   "cell_type": "code",
   "execution_count": 36,
   "id": "f30d34da",
   "metadata": {},
   "outputs": [],
   "source": [
    "cm=confusion_matrix(Y_test, dtc_tunning)"
   ]
  },
  {
   "cell_type": "code",
   "execution_count": 37,
   "id": "ba4cf562",
   "metadata": {},
   "outputs": [
    {
     "data": {
      "text/plain": [
       "<AxesSubplot:>"
      ]
     },
     "execution_count": 37,
     "metadata": {},
     "output_type": "execute_result"
    },
    {
     "data": {
      "image/png": "[encoded data removed]",
      "text/plain": [
       "<Figure size 640x480 with 2 Axes>"
      ]
     },
     "metadata": {},
     "output_type": "display_data"
    }
   ],
   "source": [
    "sns.heatmap(cm, annot=True, fmt=\".0f\")"
   ]
  },
  {
   "cell_type": "markdown",
   "id": "a395bb3e",
   "metadata": {},
   "source": [
    "## Part B"
   ]
  },
  {
   "cell_type": "code",
   "execution_count": 38,
   "id": "0c012f1d",
   "metadata": {},
   "outputs": [],
   "source": [
    "# HERE YOU WILL USE THIS TEMPLATE TO SAVE THE PREDICTIONS ON THE TEST SET\n",
    "\n",
    "# Load the test data\n",
    "test_df = pd.read_csv('CE802_P2_Test.csv')\n",
    "\n",
    "# Make sure you work on a copy\n",
    "test_data = test_df.iloc[:,:-1].copy()\n",
    "\n",
    "test_data.drop(columns='F21' , inplace=True)\n",
    "X_Robust = pd.DataFrame(rc.fit_transform(test_data),columns=test_data.columns)\n",
    "X_Robust.head()\n",
    "dtc = DecisionTreeClassifier(criterion='entropy', max_depth=5)\n",
    "\n",
    "dtc.fit(X_train,Y_train)\n",
    "\n",
    "dtc_tunning = dtc.predict(X_test)\n",
    "\n",
    "predicted = dtc.predict(X_Robust) # CHANGE HERE -- use your previously trained predictor and apply it to test_data\n",
    "                # (test_data can be modified if needed but make sure you don't change the order of the rows)...\n",
    "\n",
    "# Replace the last (empty) column with your prediction\n",
    "test_df.iloc[:,-1] = predicted\n",
    "\n",
    "# Save to the destination file\n",
    "test_df.to_csv('CE802_P2_Test_Predictions.csv', index=False, float_format='%.8g')\n",
    "\n",
    "# IMPORTANT!! Make sure only the last column has changed\n",
    "assert pd.read_csv('CE802_P2_Test.csv').iloc[:,:-1].equals(pd.read_csv('CE802_P2_Test_Predictions.csv').iloc[:,:-1])"
   ]
  }
 ],
 "metadata": {
  "kernelspec": {
   "display_name": "Python 3 (ipykernel)",
   "language": "python",
   "name": "python3"
  },
  "language_info": {
   "codemirror_mode": {
    "name": "ipython",
    "version": 3
   },
   "file_extension": ".py",
   "mimetype": "text/x-python",
   "name": "python",
   "nbconvert_exporter": "python",
   "pygments_lexer": "ipython3",
   "version": "3.9.13"
  }
 },
 "nbformat": 4,
 "nbformat_minor": 5
}
